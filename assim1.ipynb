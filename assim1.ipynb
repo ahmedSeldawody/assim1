{
 "cells": [
  {
   "cell_type": "code",
   "execution_count": 1,
   "id": "8c62b9f4-3f7e-4ca4-90d0-d3ad8f7dd34c",
   "metadata": {},
   "outputs": [],
   "source": [
    "#(1)implement fibonacci series using recursion\n"
   ]
  },
  {
   "cell_type": "code",
   "execution_count": 8,
   "id": "fa0fe452-8484-40d9-9f59-c07eb81f3e53",
   "metadata": {},
   "outputs": [
    {
     "name": "stdout",
     "output_type": "stream",
     "text": [
      "34\n"
     ]
    }
   ],
   "source": [
    "def fibonancci(n):\n",
    "    a=0\n",
    "    b=1\n",
    "    if n < 0 :\n",
    "        print(\"input erorr\")\n",
    "    elif n==0:\n",
    "        return a\n",
    "    elif n==1:\n",
    "        return b\n",
    "    else:\n",
    "        for i in range(2,n+1):\n",
    "            c=a+b\n",
    "            a=b\n",
    "            b=c\n",
    "        return b\n",
    "print(fibonancci(9))\n",
    "        "
   ]
  },
  {
   "cell_type": "code",
   "execution_count": 10,
   "id": "80ebabba-7b4f-41d4-afc2-6c1e062215fc",
   "metadata": {},
   "outputs": [],
   "source": [
    "#(2)write a function that will taken a given string and reverse the order of words "
   ]
  },
  {
   "cell_type": "code",
   "execution_count": 11,
   "id": "af2a6e5e-48d3-4b73-a104-e1b6fb2732d8",
   "metadata": {},
   "outputs": [],
   "source": [
    "#EX(1)\"hello world\" becomes \"world hello\""
   ]
  },
  {
   "cell_type": "code",
   "execution_count": 12,
   "id": "4374ecf9-8bfb-41e6-942a-1fa534ae9922",
   "metadata": {},
   "outputs": [
    {
     "name": "stdout",
     "output_type": "stream",
     "text": [
      "world hello\n"
     ]
    }
   ],
   "source": [
    "string =\"hello world\"\n",
    "s = string.split()[::-1]\n",
    "print(\" \".join(s))"
   ]
  },
  {
   "cell_type": "code",
   "execution_count": 13,
   "id": "c4a6e019-9121-48cc-8476-509932c0813f",
   "metadata": {},
   "outputs": [],
   "source": [
    "#EX(2)\"may the fourth be with you\"becomes\"you with be fourth the may\""
   ]
  },
  {
   "cell_type": "code",
   "execution_count": 14,
   "id": "d3c36cd5-05dc-4a1a-be71-06cc939be6ea",
   "metadata": {},
   "outputs": [
    {
     "name": "stdout",
     "output_type": "stream",
     "text": [
      "you with be fourth the may\n"
     ]
    }
   ],
   "source": [
    "string=\"may the fourth be with you\"\n",
    "s=string.split()[::-1]\n",
    "print(\" \".join(s))"
   ]
  },
  {
   "cell_type": "code",
   "execution_count": 15,
   "id": "13e9ac86-deed-4be1-a73b-59f8bca83712",
   "metadata": {},
   "outputs": [],
   "source": [
    "#(3)write a fuction primenumber detector that tests if a number n is a prime number"
   ]
  },
  {
   "cell_type": "code",
   "execution_count": 28,
   "id": "f18f3be8-6d9b-4031-b494-c21012627f39",
   "metadata": {},
   "outputs": [
    {
     "name": "stdout",
     "output_type": "stream",
     "text": [
      "10 is not a prime number\n"
     ]
    }
   ],
   "source": [
    "num=10\n",
    "if num > 1:\n",
    "    for i in range (2,num):\n",
    "        if (num%i)==0:\n",
    "            print(num,\"is not a prime number\")\n",
    "            break\n",
    "        else:\n",
    "            print(\"num,is a prime number\")  \n",
    "else:\n",
    "    print(\"is not a prime number\")"
   ]
  },
  {
   "cell_type": "code",
   "execution_count": null,
   "id": "3e446f62-cf7b-4520-be07-e303645a9594",
   "metadata": {},
   "outputs": [],
   "source": []
  }
 ],
 "metadata": {
  "kernelspec": {
   "display_name": "Python 3 (ipykernel)",
   "language": "python",
   "name": "python3"
  },
  "language_info": {
   "codemirror_mode": {
    "name": "ipython",
    "version": 3
   },
   "file_extension": ".py",
   "mimetype": "text/x-python",
   "name": "python",
   "nbconvert_exporter": "python",
   "pygments_lexer": "ipython3",
   "version": "3.9.13"
  }
 },
 "nbformat": 4,
 "nbformat_minor": 5
}
